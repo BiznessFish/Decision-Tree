{
 "cells": [
  {
   "cell_type": "markdown",
   "id": "52da94ad-c938-4372-9098-30ff69864be1",
   "metadata": {},
   "source": [
    "## Submission Demonstration for DISH Network Takehome June 2022"
   ]
  },
  {
   "cell_type": "markdown",
   "id": "f11cbc24-9256-4807-b3f2-6ed6214783c2",
   "metadata": {},
   "source": [
    "### Loading in data"
   ]
  },
  {
   "cell_type": "code",
   "execution_count": 1,
   "id": "c85abbee-00df-404d-827d-e33c0d4e2d53",
   "metadata": {},
   "outputs": [],
   "source": [
    "import numpy as np\n",
    "\n",
    "example_preds =  np.load('uplift/uplift/example_preds.npy')\n",
    "example_treatment = np.load('uplift/uplift/example_treatment.npy')\n",
    "example_X = np.load('uplift/uplift/example_X.npy')\n",
    "example_y = np.load('uplift/uplift/example_y.npy')\n"
   ]
  },
  {
   "cell_type": "markdown",
   "id": "3d830782-11a3-459b-8fd7-b2aa46a40815",
   "metadata": {},
   "source": [
    "### import, initialize, fit, predict"
   ]
  },
  {
   "cell_type": "code",
   "execution_count": 2,
   "id": "989e4640-d874-4a19-a160-3c1279beeb6b",
   "metadata": {},
   "outputs": [],
   "source": [
    "from submission import UpliftTreeRegressor\n",
    "tree = UpliftTreeRegressor(max_depth = 3, min_samples_leaf = 6000, min_samples_leaf_treated = 2500, min_samples_leaf_control = 2500)\n",
    "tree.fit(example_X, example_treatment, example_y)\n",
    "out = tree.predict(example_X)"
   ]
  },
  {
   "cell_type": "markdown",
   "id": "364c1efe-5233-423e-890e-05471a143d16",
   "metadata": {},
   "source": [
    "### compare performance to example predictions using MSE"
   ]
  },
  {
   "cell_type": "code",
   "execution_count": 8,
   "id": "df879d6a-feea-4f7b-b791-e94985bfedd2",
   "metadata": {},
   "outputs": [
    {
     "data": {
      "text/plain": [
       "5.4608896163924545e-30"
      ]
     },
     "execution_count": 8,
     "metadata": {},
     "output_type": "execute_result"
    }
   ],
   "source": [
    "np.mean(np.square(example_preds - out))"
   ]
  },
  {
   "cell_type": "markdown",
   "id": "96e36146-0289-45c4-ab3a-fd081dc3b3b3",
   "metadata": {},
   "source": [
    "#### Bonus: helper function to print tree"
   ]
  },
  {
   "cell_type": "code",
   "execution_count": 4,
   "id": "7c7823c4-8ee8-48eb-a44e-b56d117c8113",
   "metadata": {},
   "outputs": [
    {
     "name": "stdout",
     "output_type": "stream",
     "text": [
      "Root\n",
      "n_items:  50000\n",
      "ATE:  0.8133621067075112\n",
      "split_feat: feat 0\n",
      "split_threshold:  0.8428329389786856\n",
      "\n",
      "\n",
      "\tLeft\n",
      "\tn_items:  40000\n",
      "\tATE:  0.45661983599927736\n",
      "\tsplit_feat: feat 0\n",
      "\tsplit_threshold:  -0.9878097589516122\n",
      "\n",
      "\n",
      "\t\tLeft <Leaf>\n",
      "\t\tn_items:  8000\n",
      "\t\tATE:  -0.7089391259816358\n",
      "\t\tsplit_feat: feat None\n",
      "\t\tsplit_threshold:  None\n",
      "\n",
      "\n",
      "\t\tRight\n",
      "\t\tn_items:  32000\n",
      "\t\tATE:  0.7439039464385158\n",
      "\t\tsplit_feat: feat 1\n",
      "\t\tsplit_threshold:  0.8401218986161384\n",
      "\n",
      "\n",
      "\t\t\tLeft <Leaf>\n",
      "\t\t\tn_items:  25600\n",
      "\t\t\tATE:  0.5381690182796833\n",
      "\t\t\tsplit_feat: feat None\n",
      "\t\t\tsplit_threshold:  None\n",
      "\n",
      "\n",
      "\t\t\tRight <Leaf>\n",
      "\t\t\tn_items:  6400\n",
      "\t\t\tATE:  1.5773329275902146\n",
      "\t\t\tsplit_feat: feat None\n",
      "\t\t\tsplit_threshold:  None\n",
      "\n",
      "\n",
      "\tRight <Leaf>\n",
      "\tn_items:  10000\n",
      "\tATE:  2.2242964961219123\n",
      "\tsplit_feat: feat None\n",
      "\tsplit_threshold:  None\n",
      "\n",
      "\n"
     ]
    }
   ],
   "source": [
    "tree._root._print_self()"
   ]
  }
 ],
 "metadata": {
  "kernelspec": {
   "display_name": "Python 3 (ipykernel)",
   "language": "python",
   "name": "python3"
  },
  "language_info": {
   "codemirror_mode": {
    "name": "ipython",
    "version": 3
   },
   "file_extension": ".py",
   "mimetype": "text/x-python",
   "name": "python",
   "nbconvert_exporter": "python",
   "pygments_lexer": "ipython3",
   "version": "3.9.12"
  }
 },
 "nbformat": 4,
 "nbformat_minor": 5
}
